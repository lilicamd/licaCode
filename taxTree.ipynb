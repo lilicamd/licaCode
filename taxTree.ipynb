{
 "cells": [
  {
   "cell_type": "markdown",
   "metadata": {},
   "source": [
    "# Get all records from xml to excel"
   ]
  },
  {
   "cell_type": "code",
   "execution_count": 1,
   "metadata": {},
   "outputs": [],
   "source": [
    "import xmltodict\n",
    "import pandas as pd\n",
    "\n",
    "#read xml file\n",
    "n = 1\n",
    "fn = open('D:\\\\arh2021\\\\poGc21\\\\bPortal\\\\beebiome-update\\\\data\\\\Apoidea\\\\Apoidea_biosample.' + str(n) + '.xml')\n",
    "fn.seek(0)\n",
    "xml = fn.read()\n",
    "#print(xml)\n",
    "\n",
    "#convert xml to python dict\n",
    "dsdocs = xmltodict.parse(xml)\n"
   ]
  },
  {
   "cell_type": "code",
   "execution_count": 2,
   "metadata": {},
   "outputs": [
    {
     "output_type": "execute_result",
     "data": {
      "text/plain": [
       "2"
      ]
     },
     "metadata": {},
     "execution_count": 2
    }
   ],
   "source": [
    "#write to csv\n",
    "df = pd.DataFrame(dsdocs ['BioSampleSet']['BioSample'])\n",
    "df.to_csv('file'+str(n)+'_out.csv', index=False) \n",
    "s0=df.size\n",
    "\n",
    "import ctypes\n",
    "ctypes.windll.user32.MessageBoxW(0, \"Done step1\", \"Processing\", 1)"
   ]
  },
  {
   "cell_type": "code",
   "execution_count": null,
   "metadata": {},
   "outputs": [],
   "source": []
  }
 ],
 "metadata": {
  "kernelspec": {
   "name": "python385jvsc74a57bd01bd6b260cdbb265abe33e104503bc8a4d297611cfefe367cd6e7504e555fa48c",
   "display_name": "Python 3.8.5 64-bit (conda)"
  },
  "language_info": {
   "codemirror_mode": {
    "name": "ipython",
    "version": 3
   },
   "file_extension": ".py",
   "mimetype": "text/x-python",
   "name": "python",
   "nbconvert_exporter": "python",
   "pygments_lexer": "ipython3",
   "version": "3.8.5"
  }
 },
 "nbformat": 4,
 "nbformat_minor": 2
}